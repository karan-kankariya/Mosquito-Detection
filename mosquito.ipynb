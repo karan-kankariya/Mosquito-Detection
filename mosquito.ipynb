{
 "cells": [
  {
   "cell_type": "markdown",
   "id": "74c4049c",
   "metadata": {},
   "source": [
    "# Mosquito Detection"
   ]
  },
  {
   "cell_type": "markdown",
   "id": "df5c8f7f",
   "metadata": {},
   "source": [
    "## Imports"
   ]
  },
  {
   "cell_type": "code",
   "execution_count": 40,
   "id": "604f2070",
   "metadata": {},
   "outputs": [],
   "source": [
    "import matplotlib.pyplot as plt\n",
    "import numpy as np\n",
    "import os\n",
    "import PIL\n",
    "import tensorflow as tf\n",
    "import pathlib\n",
    "\n",
    "from sklearn.model_selection import train_test_split\n",
    "\n",
    "\n",
    "from tensorflow import keras\n",
    "from tensorflow.keras.layers import Dense, Dropout, Flatten, Conv2D, MaxPooling2D\n",
    "from tensorflow.keras.models import Sequential\n",
    "from tensorflow.keras.preprocessing.image import img_to_array, load_img\n",
    "from keras.preprocessing.image import ImageDataGenerator\n",
    "\n",
    "#import opencv2"
   ]
  },
  {
   "cell_type": "markdown",
   "id": "feb508bb",
   "metadata": {},
   "source": [
    "## Data import and preprocessing"
   ]
  },
  {
   "cell_type": "code",
   "execution_count": 41,
   "id": "709d5cb5",
   "metadata": {},
   "outputs": [
    {
     "name": "stdout",
     "output_type": "stream",
     "text": [
      "245 pictures converted.\n"
     ]
    }
   ],
   "source": [
    "#mosquito dataset\n",
    "mosquito_arrays = []\n",
    "\n",
    "mosquito_path = './data/mosquitoes/'\n",
    "\n",
    "# convert each image to normalized array and store\n",
    "for file in os.listdir(mosquito_path):\n",
    "    try:\n",
    "        mos = load_img(mosquito_path + file, target_size=(256, 256))\n",
    "        mosquito_array = img_to_array(mos) / 255\n",
    "        mosquito_arrays.append(mosquito_array)\n",
    "    except:\n",
    "        print(f'Error for file: {file}')\n",
    "\n",
    "print(f'{len(mosquito_arrays)} pictures converted.')"
   ]
  },
  {
   "cell_type": "code",
   "execution_count": 42,
   "id": "5ff5b2ec",
   "metadata": {},
   "outputs": [
    {
     "name": "stdout",
     "output_type": "stream",
     "text": [
      "Error for file: .DS_Store\n",
      "274 pictures converted.\n"
     ]
    }
   ],
   "source": [
    "#dataset of other bugs\n",
    "other_arrays = []\n",
    "other_path = './data/other/'\n",
    "\n",
    "# convert each image to normalized array and store\n",
    "for file in os.listdir(other_path):\n",
    "    try:\n",
    "        oth = load_img(other_path + file, target_size=(256, 256))\n",
    "        other_array = img_to_array(oth) / 255\n",
    "        other_arrays.append(other_array)\n",
    "    except:\n",
    "        print(f'Error for file: {file}')\n",
    "\n",
    "print(f'{len(other_arrays)} pictures converted.')"
   ]
  },
  {
   "cell_type": "code",
   "execution_count": 43,
   "id": "1e52a63e",
   "metadata": {},
   "outputs": [
    {
     "name": "stdout",
     "output_type": "stream",
     "text": [
      "X shape: (519, 256, 256, 3)\n",
      "y shape: (519,)\n"
     ]
    }
   ],
   "source": [
    "# X contains mosquitos and other\n",
    "X = mosquito_arrays + other_arrays\n",
    "\n",
    "X_arr = np.array(X)\n",
    "print(f'X shape: {X_arr.shape}')\n",
    "\n",
    "# 1 for mosquito, 0 for other\n",
    "y = [1] * 245 + [0] * 274\n",
    "# convert to array and check shape\n",
    "y = np.array(y)\n",
    "print(f'y shape: {y.shape}')"
   ]
  },
  {
   "cell_type": "markdown",
   "id": "7ca212d7",
   "metadata": {},
   "source": [
    "## Modelling"
   ]
  },
  {
   "cell_type": "markdown",
   "id": "9f9ec261",
   "metadata": {},
   "source": [
    "### Base model"
   ]
  },
  {
   "cell_type": "code",
   "execution_count": null,
   "id": "d3748a5d",
   "metadata": {},
   "outputs": [],
   "source": []
  },
  {
   "cell_type": "code",
   "execution_count": 44,
   "id": "0ace8cba",
   "metadata": {},
   "outputs": [],
   "source": [
    "#train test split\n",
    "X_train, X_test, y_train, y_test = train_test_split(X, y, random_state=42, stratify=y)"
   ]
  },
  {
   "cell_type": "code",
   "execution_count": 45,
   "id": "6b97ba29",
   "metadata": {},
   "outputs": [],
   "source": [
    "#convert to np array\n",
    "X_train = np.array(X_train)\n",
    "X_test = np.array(X_test)"
   ]
  },
  {
   "cell_type": "code",
   "execution_count": 46,
   "id": "59dd7e6a",
   "metadata": {},
   "outputs": [],
   "source": [
    "#cnn base model\n",
    "model1 = Sequential()\n",
    "\n",
    "model1.add(Conv2D(64, (3,3), activation = 'relu', input_shape = (256, 256, 3)))\n",
    "model1.add(MaxPooling2D(pool_size = (2,2)))\n",
    "\n",
    "model1.add(Conv2D(64, (3,3), activation = 'relu'))\n",
    "model1.add(MaxPooling2D(pool_size = (2,2)))\n",
    "\n",
    "model1.add(Flatten())\n",
    "model1.add(Dense(64, activation='relu'))\n",
    "\n",
    "model1.add(Dense(1, activation='sigmoid'))\n",
    "\n",
    "model1.compile(optimizer=\"adam\",\n",
    "              loss='binary_crossentropy',\n",
    "              metrics=['accuracy'])"
   ]
  },
  {
   "cell_type": "code",
   "execution_count": 47,
   "id": "481719b1",
   "metadata": {},
   "outputs": [
    {
     "name": "stdout",
     "output_type": "stream",
     "text": [
      "Epoch 1/5\n",
      "7/7 [==============================] - 12s 2s/step - loss: 2.6282 - accuracy: 0.4859 - val_loss: 0.6976 - val_accuracy: 0.5385\n",
      "Epoch 2/5\n",
      "7/7 [==============================] - 12s 2s/step - loss: 0.6744 - accuracy: 0.5553 - val_loss: 1.2074 - val_accuracy: 0.5385\n",
      "Epoch 3/5\n",
      "7/7 [==============================] - 13s 2s/step - loss: 0.7882 - accuracy: 0.5373 - val_loss: 0.6450 - val_accuracy: 0.6846\n",
      "Epoch 4/5\n",
      "7/7 [==============================] - 12s 2s/step - loss: 0.6008 - accuracy: 0.7198 - val_loss: 0.5379 - val_accuracy: 0.7615\n",
      "Epoch 5/5\n",
      "7/7 [==============================] - 12s 2s/step - loss: 0.4254 - accuracy: 0.8303 - val_loss: 0.3947 - val_accuracy: 0.8077\n"
     ]
    }
   ],
   "source": [
    "h1 = model1.fit(X_train, y_train, validation_data=(X_test, y_test), batch_size=64, epochs=5)"
   ]
  },
  {
   "cell_type": "code",
   "execution_count": 48,
   "id": "772808a0",
   "metadata": {},
   "outputs": [
    {
     "name": "stdout",
     "output_type": "stream",
     "text": [
      "Model: \"sequential_6\"\n",
      "_________________________________________________________________\n",
      "Layer (type)                 Output Shape              Param #   \n",
      "=================================================================\n",
      "conv2d_8 (Conv2D)            (None, 254, 254, 64)      1792      \n",
      "_________________________________________________________________\n",
      "max_pooling2d_8 (MaxPooling2 (None, 127, 127, 64)      0         \n",
      "_________________________________________________________________\n",
      "conv2d_9 (Conv2D)            (None, 125, 125, 64)      36928     \n",
      "_________________________________________________________________\n",
      "max_pooling2d_9 (MaxPooling2 (None, 62, 62, 64)        0         \n",
      "_________________________________________________________________\n",
      "flatten_4 (Flatten)          (None, 246016)            0         \n",
      "_________________________________________________________________\n",
      "dense_8 (Dense)              (None, 64)                15745088  \n",
      "_________________________________________________________________\n",
      "dense_9 (Dense)              (None, 1)                 65        \n",
      "=================================================================\n",
      "Total params: 15,783,873\n",
      "Trainable params: 15,783,873\n",
      "Non-trainable params: 0\n",
      "_________________________________________________________________\n"
     ]
    }
   ],
   "source": [
    "model1.summary()"
   ]
  },
  {
   "cell_type": "markdown",
   "id": "f4af05a0",
   "metadata": {},
   "source": [
    "### Model with data augmentation"
   ]
  },
  {
   "cell_type": "code",
   "execution_count": 59,
   "id": "487e5f4e",
   "metadata": {},
   "outputs": [],
   "source": [
    "#Data augmentation\n",
    "data_augmentation = tf.keras.Sequential([\n",
    "  layers.experimental.preprocessing.RandomFlip(\"horizontal_and_vertical\"),\n",
    "  layers.experimental.preprocessing.RandomRotation(0.2),\n",
    "])\n",
    "\n",
    "#souce https://blog.keras.io/building-powerful-image-classification-models-using-very-little-data.html"
   ]
  },
  {
   "cell_type": "code",
   "execution_count": 63,
   "id": "d9505401",
   "metadata": {},
   "outputs": [],
   "source": [
    "batch_size = 16\n",
    "\n",
    "train_generator = train_datagen.flow_from_directory(\n",
    "        './data/mosquitoes',  # this is the target directory\n",
    "        target_size=(256, 256), \n",
    "        batch_size=batch_size,\n",
    "        class_mode='binary')  # since we use binary_crossentropy loss, we need binary labels\n",
    "\n",
    "test_generator = test_datagen.flow_from_directory(\n",
    "        './data/other',\n",
    "        target_size=(256,256),\n",
    "        batch_size=batch_size,\n",
    "        class_mode='binary');\n"
   ]
  },
  {
   "cell_type": "code",
   "execution_count": 60,
   "id": "aeb0eb0d",
   "metadata": {},
   "outputs": [],
   "source": [
    "#model\n",
    "model2 = Sequential()\n",
    "\n",
    "\n",
    "model2.add(Conv2D(64, (3,3), activation = 'relu', input_shape = (256, 256, 3)))\n",
    "model2.add(MaxPooling2D(pool_size = (2,2)))\n",
    "\n",
    "model2.add(Conv2D(64, (3,3), activation = 'relu'))\n",
    "model2.add(MaxPooling2D(pool_size = (2,2)))\n",
    "\n",
    "model2.add(Flatten())\n",
    "model2.add(Dense(64, activation='relu'))\n",
    "\n",
    "model2.add(Dense(1, activation='sigmoid'))\n",
    "\n",
    "model2.compile(optimizer=\"adam\",\n",
    "              loss='binary_crossentropy',\n",
    "              metrics=['accuracy'])"
   ]
  },
  {
   "cell_type": "code",
   "execution_count": 61,
   "id": "3d74edc0",
   "metadata": {},
   "outputs": [
    {
     "name": "stdout",
     "output_type": "stream",
     "text": [
      "Epoch 1/5\n",
      "7/7 [==============================] - 13s 2s/step - loss: 5.9500 - accuracy: 0.5296 - val_loss: 1.1497 - val_accuracy: 0.4846\n",
      "Epoch 2/5\n",
      "7/7 [==============================] - 12s 2s/step - loss: 0.7926 - accuracy: 0.5424 - val_loss: 0.6881 - val_accuracy: 0.4769\n",
      "Epoch 3/5\n",
      "7/7 [==============================] - 11s 2s/step - loss: 0.7095 - accuracy: 0.4550 - val_loss: 0.6926 - val_accuracy: 0.5385\n",
      "Epoch 4/5\n",
      "7/7 [==============================] - 11s 2s/step - loss: 0.6947 - accuracy: 0.5347 - val_loss: 0.6571 - val_accuracy: 0.5846\n",
      "Epoch 5/5\n",
      "7/7 [==============================] - 11s 2s/step - loss: 0.6492 - accuracy: 0.6607 - val_loss: 0.6087 - val_accuracy: 0.7000\n"
     ]
    }
   ],
   "source": [
    "h2 = model2.fit(X_train, y_train, validation_data=(X_test, y_test), batch_size=64, epochs=5)"
   ]
  },
  {
   "cell_type": "code",
   "execution_count": null,
   "id": "28cd02c4",
   "metadata": {},
   "outputs": [],
   "source": []
  },
  {
   "cell_type": "code",
   "execution_count": null,
   "id": "93d5c236",
   "metadata": {},
   "outputs": [],
   "source": [
    "#todo\n",
    "#fix open cv\n",
    "#convert video frame to images and process them"
   ]
  }
 ],
 "metadata": {
  "kernelspec": {
   "display_name": "Python 3 (ipykernel)",
   "language": "python",
   "name": "python3"
  },
  "language_info": {
   "codemirror_mode": {
    "name": "ipython",
    "version": 3
   },
   "file_extension": ".py",
   "mimetype": "text/x-python",
   "name": "python",
   "nbconvert_exporter": "python",
   "pygments_lexer": "ipython3",
   "version": "3.8.10"
  }
 },
 "nbformat": 4,
 "nbformat_minor": 5
}
